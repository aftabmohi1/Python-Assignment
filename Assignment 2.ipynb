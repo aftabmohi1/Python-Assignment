{
 "cells": [
  {
   "cell_type": "code",
   "execution_count": 2,
   "metadata": {},
   "outputs": [
    {
     "name": "stdout",
     "output_type": "stream",
     "text": [
      "Enter marks - subject 1: 10\n",
      "Enter marks - subject 2: 10\n",
      "Enter marks - subject 3: 10\n",
      "Enter marks - subject 4: 10\n",
      "Enter marks - subject 5: 10\n",
      "Total Marks 50\n",
      "\n",
      "Marks Sheet\n",
      "Grade: B\n"
     ]
    }
   ],
   "source": [
    "## Assignment 2\n",
    "## Q1.\n",
    "\n",
    "sub1=int(input(\"Enter marks - subject 1: \"))\n",
    "sub2=int(input(\"Enter marks - subject 2: \"))\n",
    "sub3=int(input(\"Enter marks - subject 3: \"))\n",
    "sub4=int(input(\"Enter marks - subject 4: \"))\n",
    "sub5=int(input(\"Enter marks - subject 5: \"))\n",
    "sum=(sub1+sub2+sub3+sub4+sub4)\n",
    "\n",
    "print ('Total Marks', sum)\n",
    "print ()\n",
    "print ('Marks Sheet')\n",
    "\n",
    "if(sum>=90):\n",
    "    print(\"Grade: A\")\n",
    "elif(sum>=80&sum<90):\n",
    "    print(\"Grade: B\")\n",
    "elif(sum>=70&sum<80):\n",
    "    print(\"Grade: C\")\n",
    "elif(sum>=60&sum<70):\n",
    "    print(\"Grade: D\")\n",
    "else:\n",
    "    print(\"Grade: F\")\n"
   ]
  },
  {
   "cell_type": "code",
   "execution_count": 7,
   "metadata": {},
   "outputs": [
    {
     "name": "stdout",
     "output_type": "stream",
     "text": [
      "Enter a number: 51\n",
      "51 is Odd\n"
     ]
    }
   ],
   "source": [
    "## Q2.\n",
    "\n",
    "num = int(input(\"Enter a number: \"))\n",
    "if (num % 2) == 0:\n",
    "   print(\"{0} is Even\".format(num))\n",
    "else:\n",
    "   print(\"{0} is Odd\".format(num))"
   ]
  },
  {
   "cell_type": "code",
   "execution_count": 8,
   "metadata": {},
   "outputs": [
    {
     "name": "stdout",
     "output_type": "stream",
     "text": [
      "Number of items in the list =  5\n"
     ]
    }
   ],
   "source": [
    "## Q3.\n",
    "\n",
    "ListName = [\"Banana\", \"Apple\", 1, 2, 3]\n",
    "print (\"Number of items in the list = \", len(ListName))\n"
   ]
  },
  {
   "cell_type": "code",
   "execution_count": 9,
   "metadata": {},
   "outputs": [
    {
     "name": "stdout",
     "output_type": "stream",
     "text": [
      "20\n"
     ]
    }
   ],
   "source": [
    "## Q4.\n",
    "\n",
    "def sum(numbers):\n",
    "    total = 0\n",
    "    for x in numbers:\n",
    "        total += x\n",
    "    return total\n",
    "print(sum((8, 2, 3, 0, 7)))"
   ]
  },
  {
   "cell_type": "code",
   "execution_count": 10,
   "metadata": {},
   "outputs": [
    {
     "name": "stdout",
     "output_type": "stream",
     "text": [
      "Largest number is: 99\n"
     ]
    }
   ],
   "source": [
    "## Q5.\n",
    "\n",
    "list1 = [10, 20, 4, 45, 99] \n",
    "list1.sort()\n",
    "print(\"Largest number is:\", list1[-1])"
   ]
  },
  {
   "cell_type": "code",
   "execution_count": 11,
   "metadata": {},
   "outputs": [
    {
     "name": "stdout",
     "output_type": "stream",
     "text": [
      "Numbers less than 5 are: 1\n",
      "Numbers less than 5 are: 1\n",
      "Numbers less than 5 are: 2\n",
      "Numbers less than 5 are: 3\n"
     ]
    }
   ],
   "source": [
    "## Q6.\n",
    "\n",
    "n = [1, 1, 2, 3, 5, 8, 13, 21, 34, 55, 89]\n",
    "for i in n:\n",
    "    if i < 5:\n",
    "        print('Numbers less than 5 are:', i)"
   ]
  },
  {
   "cell_type": "code",
   "execution_count": null,
   "metadata": {},
   "outputs": [],
   "source": []
  }
 ],
 "metadata": {
  "kernelspec": {
   "display_name": "Python 3",
   "language": "python",
   "name": "python3"
  },
  "language_info": {
   "codemirror_mode": {
    "name": "ipython",
    "version": 3
   },
   "file_extension": ".py",
   "mimetype": "text/x-python",
   "name": "python",
   "nbconvert_exporter": "python",
   "pygments_lexer": "ipython3",
   "version": "3.7.4"
  }
 },
 "nbformat": 4,
 "nbformat_minor": 2
}
