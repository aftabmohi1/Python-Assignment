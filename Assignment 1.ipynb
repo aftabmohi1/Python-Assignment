{
 "cells": [
  {
   "cell_type": "code",
   "execution_count": 57,
   "metadata": {},
   "outputs": [
    {
     "name": "stdout",
     "output_type": "stream",
     "text": [
      "Twinkle, twinkle, little star,\n",
      "      How I wonder what you are!\n",
      "            Up above the world so high,\n",
      "            Like a diamond in the sky.\n",
      "Twinkle, twinkle, little star,\n",
      "      How I wonder what you are!\n"
     ]
    }
   ],
   "source": [
    "# Assignment No. 1\n",
    "# Q1.\n",
    "\n",
    "print (\"Twinkle, twinkle, little star,\")\n",
    "print (\"      How I wonder what you are!\")\n",
    "print (\"            Up above the world so high,\")\n",
    "print (\"            Like a diamond in the sky.\")\n",
    "print (\"Twinkle, twinkle, little star,\")\n",
    "print (\"      How I wonder what you are!\")"
   ]
  },
  {
   "cell_type": "code",
   "execution_count": 58,
   "metadata": {},
   "outputs": [
    {
     "name": "stdout",
     "output_type": "stream",
     "text": [
      "Current Python Verion is\n",
      "3.7.4 (default, Aug 13 2019, 15:17:50) \n",
      "[Clang 4.0.1 (tags/RELEASE_401/final)]\n",
      "sys.version_info(major=3, minor=7, micro=4, releaselevel='final', serial=0)\n"
     ]
    }
   ],
   "source": [
    "# Assignment No. 1\n",
    "# Q2\n",
    "\n",
    "import sys\n",
    "print (\"Current Python Verion is\")\n",
    "print (sys.version)\n",
    "print (sys.version_info)"
   ]
  },
  {
   "cell_type": "code",
   "execution_count": 61,
   "metadata": {},
   "outputs": [
    {
     "name": "stdout",
     "output_type": "stream",
     "text": [
      "Today's date and time =   Nov 3, 2019 12:00 pm\n"
     ]
    }
   ],
   "source": [
    "# Assignment No. 1\n",
    "# Q3\n",
    "\n",
    "current_date = \"Nov 3, 2019\"\n",
    "current_time = \"12:00 pm\"\n",
    "print (\"Today's date and time =  \", current_date, current_time)"
   ]
  },
  {
   "cell_type": "code",
   "execution_count": 62,
   "metadata": {},
   "outputs": [
    {
     "name": "stdin",
     "output_type": "stream",
     "text": [
      "Radius of Circle 12\n"
     ]
    },
    {
     "name": "stdout",
     "output_type": "stream",
     "text": [
      "Total Area will be = 18.84\n"
     ]
    }
   ],
   "source": [
    "# Assignment No. 1\n",
    "# Q4\n",
    "\n",
    "c = int(input (\"Radius of Circle\"))\n",
    "print (\"Total Area will be =\", c/2*3.14)"
   ]
  },
  {
   "cell_type": "code",
   "execution_count": 63,
   "metadata": {},
   "outputs": [
    {
     "name": "stdin",
     "output_type": "stream",
     "text": [
      "Your first name  aftab\n",
      "Your second name mohiuddin\n"
     ]
    },
    {
     "name": "stdout",
     "output_type": "stream",
     "text": [
      "mohiuddin aftab\n"
     ]
    }
   ],
   "source": [
    "# Assignment No. 1\n",
    "# Q5\n",
    "\n",
    "\n",
    "first_name = input (\"Your first name \")\n",
    "second_name = input (\"Your second name\")\n",
    "print (second_name, first_name)"
   ]
  },
  {
   "cell_type": "code",
   "execution_count": 65,
   "metadata": {},
   "outputs": [
    {
     "name": "stdin",
     "output_type": "stream",
     "text": [
      "Type Input 1 = 3\n",
      "Type Input 2 = 4\n"
     ]
    },
    {
     "name": "stdout",
     "output_type": "stream",
     "text": [
      "Total Value = 7\n"
     ]
    }
   ],
   "source": [
    "# Assignment No. 1\n",
    "# Q6\n",
    "\n",
    "input1 = int(input(\"Type Input 1 =\"))\n",
    "input2 = int(input(\"Type Input 2 =\"))\n",
    "print (\"Total Value =\", input1+input2)"
   ]
  },
  {
   "cell_type": "code",
   "execution_count": null,
   "metadata": {},
   "outputs": [],
   "source": []
  },
  {
   "cell_type": "code",
   "execution_count": null,
   "metadata": {},
   "outputs": [],
   "source": []
  },
  {
   "cell_type": "code",
   "execution_count": null,
   "metadata": {},
   "outputs": [],
   "source": []
  }
 ],
 "metadata": {
  "kernelspec": {
   "display_name": "Python 3",
   "language": "python",
   "name": "python3"
  },
  "language_info": {
   "codemirror_mode": {
    "name": "ipython",
    "version": 3
   },
   "file_extension": ".py",
   "mimetype": "text/x-python",
   "name": "python",
   "nbconvert_exporter": "python",
   "pygments_lexer": "ipython3",
   "version": "3.7.4"
  }
 },
 "nbformat": 4,
 "nbformat_minor": 4
}
